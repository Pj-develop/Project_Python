{
  "nbformat": 4,
  "nbformat_minor": 0,
  "metadata": {
    "colab": {
      "provenance": [],
      "authorship_tag": "ABX9TyOyajjnUEhItp0MGfolkVSw",
      "include_colab_link": true
    },
    "kernelspec": {
      "name": "python3",
      "display_name": "Python 3"
    },
    "language_info": {
      "name": "python"
    }
  },
  "cells": [
    {
      "cell_type": "markdown",
      "metadata": {
        "id": "view-in-github",
        "colab_type": "text"
      },
      "source": [
        "<a href=\"https://colab.research.google.com/github/Pj-develop/Project_Python/blob/master/Calculator.ipynb\" target=\"_parent\"><img src=\"https://colab.research.google.com/assets/colab-badge.svg\" alt=\"Open In Colab\"/></a>"
      ]
    },
    {
      "cell_type": "code",
      "execution_count": 3,
      "metadata": {
        "colab": {
          "base_uri": "https://localhost:8080/"
        },
        "id": "a-B7udoMnLRm",
        "outputId": "13d5bed3-f207-496b-8165-5d7bc07289fd"
      },
      "outputs": [
        {
          "output_type": "stream",
          "name": "stdout",
          "text": [
            "5\n",
            "2\n",
            "-\n",
            "3.0\n"
          ]
        }
      ],
      "source": [
        "def calc():\n",
        "  a=float(input())\n",
        "  b=float(input())\n",
        "  op=input()\n",
        "  if op==\"+\":\n",
        "    print(a+b)\n",
        "  elif op==\"-\":\n",
        "    print(a-b)\n",
        "  elif op==\"*\":\n",
        "    print(a*b)\n",
        "  elif op==\"/\":\n",
        "    print(a/b)\n",
        "\n",
        "calc()"
      ]
    },
    {
      "cell_type": "code",
      "source": [
        "def add(a,b):\n",
        "  return a+b\n",
        "def sub(a,b):\n",
        "  return a-b\n",
        "def mul(a,b):\n",
        "  return a*b\n",
        "def dv(a,b):\n",
        "  return a/b\n",
        "\n",
        "#main\n",
        "print('''\n",
        "1. Add\n",
        "2. Subtract\n",
        "3. Multiply\n",
        "4. Divide\n",
        "''')\n",
        "while True:\n",
        "  a=float(input(\"Enter 1st No.: \"))\n",
        "  b=float(input(\"Enter 2nd No.: \"))\n",
        "  choice=int(input(\"Enter Option 1/2/3/4 : \"))\n",
        "\n",
        "  if choice==1:\n",
        "    print(add(a,b))\n",
        "  elif choice==2:\n",
        "    print(sub(a,b))\n",
        "  elif choice==3:\n",
        "    print(mul(a,b))\n",
        "  elif choice==4:\n",
        "    print(dv(a,b))\n",
        "  else:\n",
        "    print(\"Invalid Operation\")\n",
        "    break\n"
      ],
      "metadata": {
        "colab": {
          "base_uri": "https://localhost:8080/"
        },
        "id": "n1-7_qlso5ob",
        "outputId": "94073248-69a1-4c76-8e05-339a3dc715b4"
      },
      "execution_count": 10,
      "outputs": [
        {
          "name": "stdout",
          "output_type": "stream",
          "text": [
            "\n",
            "1. Add\n",
            "2. Subtract\n",
            "3. Multiply\n",
            "4. Divide\n",
            "\n",
            "Enter 1st No.: 5\n",
            "Enter 2nd No.: 5\n",
            "Enter Option 1/2/3/4 : 1\n",
            "10.0\n",
            "Enter 1st No.: 1\n",
            "Enter 2nd No.: 1\n",
            "Enter Option 1/2/3/4 : 12\n"
          ]
        }
      ]
    }
  ]
}