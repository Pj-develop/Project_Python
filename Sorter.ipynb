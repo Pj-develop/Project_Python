{
  "nbformat": 4,
  "nbformat_minor": 0,
  "metadata": {
    "colab": {
      "provenance": [],
      "authorship_tag": "ABX9TyOiI7dZ9Z8+lXPRXe0mRVfu",
      "include_colab_link": true
    },
    "kernelspec": {
      "name": "python3",
      "display_name": "Python 3"
    },
    "language_info": {
      "name": "python"
    }
  },
  "cells": [
    {
      "cell_type": "markdown",
      "metadata": {
        "id": "view-in-github",
        "colab_type": "text"
      },
      "source": [
        "<a href=\"https://colab.research.google.com/github/Pj-develop/Project_Python/blob/master/Sorter.ipynb\" target=\"_parent\"><img src=\"https://colab.research.google.com/assets/colab-badge.svg\" alt=\"Open In Colab\"/></a>"
      ]
    },
    {
      "cell_type": "code",
      "execution_count": 1,
      "metadata": {
        "colab": {
          "base_uri": "https://localhost:8080/"
        },
        "id": "BABfTrZJmF5P",
        "outputId": "39bd59f9-66e5-4bd0-a6fc-fed7a6568637"
      },
      "outputs": [
        {
          "output_type": "stream",
          "name": "stdout",
          "text": [
            "[0, 1, 2, 3, 4, 5, 6, 7, 8, 9]\n"
          ]
        }
      ],
      "source": [
        "a=[0,9,8,7,6,5,4,3,2,1]\n",
        "b=[]\n",
        "l=len(a)\n",
        "i=0\n",
        "while i<l:\n",
        "    for j in range(l-1):\n",
        "        if a[j]>a[j+1]:\n",
        "            a[j],a[j+1]=a[j+1],a[j]\n",
        "    i+=1\n",
        "        \n",
        "        \n",
        "\n",
        "print(a) \n"
      ]
    }
  ]
}