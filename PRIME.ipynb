{
  "nbformat": 4,
  "nbformat_minor": 0,
  "metadata": {
    "colab": {
      "provenance": [],
      "authorship_tag": "ABX9TyOSZ6wesEe7/NX8IFm2GDFn",
      "include_colab_link": true
    },
    "kernelspec": {
      "name": "python3",
      "display_name": "Python 3"
    },
    "language_info": {
      "name": "python"
    }
  },
  "cells": [
    {
      "cell_type": "markdown",
      "metadata": {
        "id": "view-in-github",
        "colab_type": "text"
      },
      "source": [
        "<a href=\"https://colab.research.google.com/github/Pj-develop/Project_Python/blob/master/PRIME.ipynb\" target=\"_parent\"><img src=\"https://colab.research.google.com/assets/colab-badge.svg\" alt=\"Open In Colab\"/></a>"
      ]
    },
    {
      "cell_type": "code",
      "execution_count": 56,
      "metadata": {
        "colab": {
          "base_uri": "https://localhost:8080/"
        },
        "id": "kXQX9XBNvJS1",
        "outputId": "12114701-9cbb-4ae2-f424-c3de9d228989"
      },
      "outputs": [
        {
          "output_type": "stream",
          "name": "stdout",
          "text": [
            "Enter 1st No.: 55\n",
            "The No. is Odd\n"
          ]
        }
      ],
      "source": [
        "def even(a):\n",
        "  if a%2==0:\n",
        "    print(\"The No. is Even\")\n",
        "  else:\n",
        "    print(\"The No. is Odd\")\n",
        "\n",
        "a=int(input(\"Enter 1st No.: \")) \n",
        "even(a)\n",
        "\n",
        "\n",
        "\n"
      ]
    },
    {
      "cell_type": "code",
      "source": [
        "# def fac(a):\n",
        "#   for i in range(2,a+1):\n",
        "#     if a%1==0 and a:\n",
        "#       print(\"Prime\")\n",
        "#     else:\n",
        "#       print(\"not prime\")\n",
        "# fac(10)\n",
        "\n",
        "a=int(input(\"Enter: \"))\n",
        "\n",
        "if a==1:\n",
        "  print(\"It is Prime\")\n",
        "elif a==2:\n",
        "  print(\"it is Prime\")\n",
        "elif a>3:\n",
        "  for i in range(2,a):\n",
        "    if a%i==0:\n",
        "      print(\"It is not Prime\")\n",
        "      break\n",
        "    else:\n",
        "      print(\"it is a Prime\")\n",
        "  \n"
      ],
      "metadata": {
        "colab": {
          "base_uri": "https://localhost:8080/"
        },
        "id": "NsZtQJ2v2nbq",
        "outputId": "02b1332a-eec6-4cb7-cc58-98f75c7bbc7f"
      },
      "execution_count": 48,
      "outputs": [
        {
          "output_type": "stream",
          "name": "stdout",
          "text": [
            "Enter: 55\n",
            "it is a Prime\n"
          ]
        }
      ]
    },
    {
      "cell_type": "code",
      "source": [
        "# def fac(a):\n",
        "#   for i in range(2,a+1):\n",
        "#     if a%1==0 and a:\n",
        "#       print(\"Prime\")\n",
        "#     else:\n",
        "#       print(\"not prime\")\n",
        "# fac(10)\n",
        "\n",
        "a=int(input(\"Enter: \"))\n",
        "b =0\n",
        "if a==1:\n",
        "  print(\"It is Prime\")\n",
        "elif a==2:\n",
        "  print(\"it is Prime\")\n",
        "elif a>3:\n",
        "  for i in range(2,srt(a)):\n",
        "    if a%i==0:\n",
        "      b =b+1\n",
        "    else:\n",
        "      b += 1\n",
        "if b == 1:\n",
        "  print(\"prime\")\n",
        "else:\n",
        "  print(\"not prime\")\n"
      ],
      "metadata": {
        "id": "wwIZweIHBWWR"
      },
      "execution_count": null,
      "outputs": []
    },
    {
      "cell_type": "code",
      "source": [
        "a = int(input())\n",
        "if a == 1:\n",
        "  print(\"Not Prime nor Composite\")\n",
        "elif a == 2:\n",
        "  print(\"Not Prime\")\n",
        "elif a > 2:\n",
        "  for i in range(2, a+1):\n",
        "    if a%i == 0:\n",
        "      print(\"Not Prime\")\n",
        "      break\n",
        "  else:\n",
        "    print(\"Prime\")"
      ],
      "metadata": {
        "id": "kR06-NhgEUnI"
      },
      "execution_count": null,
      "outputs": []
    }
  ]
}